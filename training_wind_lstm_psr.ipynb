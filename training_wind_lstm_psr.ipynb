{
 "cells": [
  {
   "cell_type": "code",
   "execution_count": null,
   "id": "2db572c7-240e-46a2-9ca6-898562b9ab7f",
   "metadata": {},
   "outputs": [],
   "source": [
    "# ---\n",
    "# title: Wind Power Forecasting with LSTM\n",
    "# author: Ali Forootani\n",
    "# date: 2025-07-30\n",
    "# description: \n",
    "#   This notebook demonstrates how to preprocess wind speed and pressure data, \n",
    "#   prepare an LSTM-based dataset, train a deep learning model, \n",
    "#   and save the trained model for deployment.\n",
    "# ---\n",
    "\n",
    "# ## 1. Imports & Setup\n",
    "import numpy as np\n",
    "import sys\n",
    "import os\n",
    "from pathlib import Path\n",
    "import torch\n",
    "import torch.nn as nn\n",
    "import torch.nn.init as init\n",
    "import matplotlib.pyplot as plt\n",
    "import warnings\n",
    "from tqdm import tqdm\n",
    "from datetime import datetime\n",
    "from sklearn.preprocessing import MinMaxScaler\n",
    "import pandas as pd\n",
    "import cartopy.crs as ccrs\n",
    "import cartopy.feature as cfeature\n",
    "from mpl_toolkits.axes_grid1 import make_axes_locatable\n",
    "\n",
    "# Custom imports\n",
    "from wind_dataset_preparation_psr import (\n",
    "    extract_pressure_for_germany,\n",
    "    extract_wind_speed_for_germany,\n",
    "    load_real_wind_csv,\n",
    "    interpolate_wind_speed,\n",
    "    loading_wind,\n",
    "    interpolate_pressure,\n",
    "    scale_interpolated_data,\n",
    "    combine_data,\n",
    "    repeat_target_points,\n",
    "    scale_target_points\n",
    ")\n",
    "from wind_dataset_preparation import WindDataGen, RNNDataPreparation, LSTMDataPreparation\n",
    "from wind_deep_simulation_framework import WindDeepModel, RNNDeepModel, LSTMDeepModel\n",
    "from wind_loss import wind_loss_func\n",
    "from wind_trainer import Trainer, RNNTrainer, LSTMTrainer\n",
    "\n",
    "# Warnings & seeds\n",
    "warnings.filterwarnings(\"ignore\")\n",
    "np.random.seed(1234)\n",
    "torch.manual_seed(7)\n",
    "\n",
    "# Device configuration\n",
    "device = torch.device(\"cuda\" if torch.cuda.is_available() else \"cpu\")\n",
    "print(f\"Using device: {device}\")\n"
   ]
  },
  {
   "cell_type": "code",
   "execution_count": null,
   "id": "d9545137-a1a4-4a41-9541-1bbd4fa85d93",
   "metadata": {},
   "outputs": [],
   "source": [
    "# ## 2. Helper function\n",
    "def setting_directory(depth):\n",
    "    current_dir = os.path.abspath(os.getcwd())\n",
    "    root_dir = current_dir\n",
    "    for i in range(depth):\n",
    "        root_dir = os.path.abspath(os.path.join(root_dir, os.pardir))\n",
    "        sys.path.append(os.path.dirname(root_dir))\n",
    "    return root_dir\n",
    "\n",
    "root_dir = setting_directory(0)\n"
   ]
  },
  {
   "cell_type": "code",
   "execution_count": null,
   "id": "cd5b1179-95c7-4096-b2b4-04c54d17fa2a",
   "metadata": {},
   "outputs": [],
   "source": [
    "# ## 3. Load & Preprocess Data\n",
    "nc_file_path_psr = 'nc_files/dataset-projections-2020/ps_EUR-11_MPI-M-MPI-ESM-LR_rcp85_r3i1p1_GERICS-REMO2015_v1_3hr_202001010100-202012312200.nc'\n",
    "nc_file_path_wind = 'nc_files/Klima_Daten_10m_3h_2020_RCP26.nc'\n",
    "csv_file_path = 'Results_2020_REMix_ReSTEP_hourly_REF.csv'\n",
    "\n",
    "pressure_data, grid_lats, grid_lons = extract_pressure_for_germany(nc_file_path_psr)\n",
    "wind_speeds, grid_lats, grid_lons = extract_wind_speed_for_germany(nc_file_path_wind)\n",
    "target_points = load_real_wind_csv(csv_file_path)\n",
    "\n",
    "# Interpolation\n",
    "interpolated_wind_speeds = interpolate_wind_speed(wind_speeds, grid_lats, grid_lons, target_points)\n",
    "interpolated_pressure = interpolate_pressure(pressure_data, grid_lats, grid_lons, target_points)\n",
    "scaled_unix_time_array, filtered_x_y, filtered_wind_power = loading_wind()\n",
    "\n",
    "# Scaling\n",
    "scaled_wind_speeds = scale_interpolated_data(interpolated_wind_speeds)\n",
    "scaled_pressure = scale_interpolated_data(interpolated_pressure)\n",
    "scaled_wind_power = scale_interpolated_data(filtered_wind_power)\n",
    "scaled_target_points = scale_target_points(target_points)\n",
    "\n",
    "# Combine data\n",
    "combined_array = combine_data(\n",
    "    scaled_target_points, scaled_unix_time_array,\n",
    "    scaled_wind_speeds, scaled_pressure, scaled_wind_power\n",
    ")\n",
    "print(f\"Combined dataset shape: {combined_array.shape}\")\n"
   ]
  },
  {
   "cell_type": "code",
   "execution_count": null,
   "id": "727b1d47-955a-437c-8819-d72cde843198",
   "metadata": {},
   "outputs": [],
   "source": [
    "# ## 4. Dataset Preparation\n",
    "wind_dataset_instance = LSTMDataPreparation(combined_array[:,:5], combined_array[:,5:])\n",
    "x_train_seq, u_train_seq, train_loader, test_loader = wind_dataset_instance.prepare_data_random(test_data_size=0.05)\n",
    "print(f\"Training sequences shape: {x_train_seq.shape}\")\n"
   ]
  },
  {
   "cell_type": "code",
   "execution_count": null,
   "id": "434b4046-9914-446a-ae97-35ce02d37e26",
   "metadata": {},
   "outputs": [],
   "source": [
    "# ## 5. LSTM Model Setup\n",
    "input_size = 5\n",
    "hidden_features = 64\n",
    "hidden_layers = 7\n",
    "output_size = 1\n",
    "learning_rate = 1e-3\n",
    "\n",
    "lstm_deep_model_instance = LSTMDeepModel(\n",
    "    input_size, hidden_features, hidden_layers, output_size, learning_rate\n",
    ")\n",
    "model, optimizer, scheduler = lstm_deep_model_instance.run()\n"
   ]
  },
  {
   "cell_type": "code",
   "execution_count": null,
   "id": "dda5028c-e885-448a-ac63-6b1d028304cc",
   "metadata": {},
   "outputs": [],
   "source": [
    "# ## 6. Training\n",
    "num_epochs = 30000\n",
    "trainer = LSTMTrainer(model, num_epochs=num_epochs, optim_adam=optimizer, scheduler=scheduler)\n",
    "loss_func_list = trainer.train_func(train_loader, test_loader)\n"
   ]
  },
  {
   "cell_type": "code",
   "execution_count": null,
   "id": "ddb6d713-1974-4184-8ffe-769e406b2965",
   "metadata": {},
   "outputs": [],
   "source": [
    "# ## 7. Save Results\n",
    "os.makedirs(\"model_repo\", exist_ok=True)\n",
    "np.save(f'model_repo/loss_func_list_{num_epochs}_{hidden_features}_{hidden_layers}_lstm.npy', loss_func_list)\n",
    "\n",
    "# Save model\n",
    "model_save_path_gpu = f'model_repo/wind_deep_model_{num_epochs}_{hidden_features}_{hidden_layers}_lstm_gpu.pth'\n",
    "model_save_path_cpu = f'model_repo/wind_deep_model_{num_epochs}_{hidden_features}_{hidden_layers}_lstm_cpu.pth'\n",
    "torch.save(model.state_dict(), model_save_path_gpu)\n",
    "cpu_state_dict = {k: v.to('cpu') for k, v in model.state_dict().items()}\n",
    "torch.save(cpu_state_dict, model_save_path_cpu)\n",
    "print(f\"Models saved to {model_save_path_gpu} and {model_save_path_cpu}\")\n"
   ]
  },
  {
   "cell_type": "code",
   "execution_count": null,
   "id": "252146ab-85b4-452e-adc5-901541b15b6d",
   "metadata": {},
   "outputs": [],
   "source": [
    "# ## 8. Plot Training Loss\n",
    "plt.figure(figsize=(10,5))\n",
    "plt.plot(loss_func_list, label=\"Training Loss\")\n",
    "plt.xlabel(\"Epochs\")\n",
    "plt.ylabel(\"Loss\")\n",
    "plt.title(\"LSTM Training Loss\")\n",
    "plt.legend()\n",
    "plt.grid()\n",
    "plt.show()\n"
   ]
  }
 ],
 "metadata": {
  "kernelspec": {
   "display_name": "Python 3 (ipykernel)",
   "language": "python",
   "name": "python3"
  },
  "language_info": {
   "codemirror_mode": {
    "name": "ipython",
    "version": 3
   },
   "file_extension": ".py",
   "mimetype": "text/x-python",
   "name": "python",
   "nbconvert_exporter": "python",
   "pygments_lexer": "ipython3",
   "version": "3.10.14"
  }
 },
 "nbformat": 4,
 "nbformat_minor": 5
}
